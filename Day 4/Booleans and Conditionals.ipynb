{
 "cells": [
  {
   "cell_type": "markdown",
   "id": "0f98b4f3",
   "metadata": {},
   "source": [
    "## Booleans"
   ]
  },
  {
   "cell_type": "markdown",
   "id": "b7308ed4",
   "metadata": {},
   "source": [
    "Python has a type of variable called bool. It has two possible values: True and False.\n"
   ]
  },
  {
   "cell_type": "code",
   "execution_count": 4,
   "id": "83234378",
   "metadata": {},
   "outputs": [
    {
     "name": "stdout",
     "output_type": "stream",
     "text": [
      "True\n",
      "<class 'bool'>\n"
     ]
    }
   ],
   "source": [
    "x = True\n",
    "print(x)\n",
    "print(type(x))"
   ]
  },
  {
   "cell_type": "markdown",
   "id": "cf08cf2b",
   "metadata": {},
   "source": [
    "\n",
    "\n",
    "Rather than putting True or False directly in our code, we usually get boolean values from boolean operators. These are operators that answer yes/no questions. "
   ]
  },
  {
   "cell_type": "markdown",
   "id": "0a018d3a",
   "metadata": {},
   "source": [
    "## Comparison Operations"
   ]
  },
  {
   "cell_type": "raw",
   "id": "306c017b",
   "metadata": {},
   "source": [
    "    Operation \tDescription \t\t          Operation \t       Description\n",
    "    a == b  \ta equal to b \t\t          a != b \t           a not equal to b\n",
    "    a < b       a less than b \t\t          a > b \t           a greater than b\n",
    "    a <= b \t    a less than or equal to b \t  a >= b               a greater than or equal to b"
   ]
  },
  {
   "cell_type": "code",
   "execution_count": 7,
   "id": "fa1a0274",
   "metadata": {},
   "outputs": [
    {
     "name": "stdout",
     "output_type": "stream",
     "text": [
      "Can a 19-year-old run for president? False\n",
      "Can a 45-year-old run for president? True\n"
     ]
    }
   ],
   "source": [
    "def can_run_for_president(age):\n",
    "    \"\"\"Can someone of the given age run for president in the US?\"\"\"\n",
    "    # The US Constitution says you must be at least 35 years old\n",
    "    return age >= 35\n",
    "\n",
    "print(\"Can a 19-year-old run for president?\", can_run_for_president(19))\n",
    "print(\"Can a 45-year-old run for president?\", can_run_for_president(45))\n",
    "\n"
   ]
  },
  {
   "cell_type": "code",
   "execution_count": null,
   "id": "1bec9632",
   "metadata": {},
   "outputs": [],
   "source": []
  }
 ],
 "metadata": {
  "kernelspec": {
   "display_name": "Python 3",
   "language": "python",
   "name": "python3"
  },
  "language_info": {
   "codemirror_mode": {
    "name": "ipython",
    "version": 3
   },
   "file_extension": ".py",
   "mimetype": "text/x-python",
   "name": "python",
   "nbconvert_exporter": "python",
   "pygments_lexer": "ipython3",
   "version": "3.8.8"
  }
 },
 "nbformat": 4,
 "nbformat_minor": 5
}
